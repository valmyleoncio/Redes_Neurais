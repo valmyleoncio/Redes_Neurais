{
  "nbformat": 4,
  "nbformat_minor": 0,
  "metadata": {
    "colab": {
      "provenance": []
    },
    "kernelspec": {
      "name": "python3",
      "display_name": "Python 3"
    },
    "language_info": {
      "name": "python"
    }
  },
  "cells": [
    {
      "cell_type": "code",
      "source": [
        "import torch\n",
        "import torch.nn as nn\n",
        "import torch.optim as optim\n",
        "import numpy as np\n",
        "import matplotlib.pyplot as plt\n",
        "from sklearn.metrics import confusion_matrix, f1_score, matthews_corrcoef\n",
        "from google.colab import drive\n",
        "from google.colab import files\n",
        "drive.mount('/content/drive')"
      ],
      "metadata": {
        "colab": {
          "base_uri": "https://localhost:8080/"
        },
        "id": "21MUQgOc8nyA",
        "outputId": "cb621854-a1d0-40ad-8655-80d684d5fbd9"
      },
      "execution_count": null,
      "outputs": [
        {
          "output_type": "stream",
          "name": "stdout",
          "text": [
            "Drive already mounted at /content/drive; to attempt to forcibly remount, call drive.mount(\"/content/drive\", force_remount=True).\n"
          ]
        }
      ]
    },
    {
      "cell_type": "code",
      "source": [
        "# Define o modelo autoencoder\n",
        "class Autoencoder(nn.Module):\n",
        "    def __init__(self, input_dim, encoding_dim):\n",
        "        super(Autoencoder, self).__init__()\n",
        "        self.encoder = nn.Linear(input_dim, encoding_dim)\n",
        "        self.decoder = nn.Linear(encoding_dim, input_dim)\n",
        "\n",
        "    def forward(self, x):\n",
        "        x = self.encoder(x)\n",
        "        x = torch.relu(x)\n",
        "        x = self.decoder(x)\n",
        "        return x"
      ],
      "metadata": {
        "id": "uzFfw1DfHFl9"
      },
      "execution_count": null,
      "outputs": []
    },
    {
      "cell_type": "code",
      "source": [
        "# Define o conjunto de dados (exemplo)\n",
        "data = np.random.normal(loc=0, scale=1, size=(1000, 10))\n",
        "anomaly_data = np.random.normal(loc=5, scale=2, size=(50, 10))\n",
        "data = np.concatenate((data, anomaly_data), axis=0)\n",
        "\n",
        "# Separa os dados em treino, validação e teste\n",
        "train_data = data[:800]\n",
        "val_data = data[800:900]\n",
        "test_data = data[900:]"
      ],
      "metadata": {
        "id": "qfRI26CKHHDz"
      },
      "execution_count": null,
      "outputs": []
    },
    {
      "cell_type": "code",
      "source": [
        "# Normaliza os dados\n",
        "mean = np.mean(train_data, axis=0)\n",
        "std = np.std(train_data, axis=0)\n",
        "\n",
        "train_data = (train_data - mean) / std\n",
        "val_data = (val_data - mean) / std\n",
        "test_data = (test_data - mean) / std"
      ],
      "metadata": {
        "id": "r-Bmm71YHI8z"
      },
      "execution_count": null,
      "outputs": []
    },
    {
      "cell_type": "code",
      "source": [
        "# Define os hiperparâmetros\n",
        "input_dim = train_data.shape[1]\n",
        "encoding_dim = 5\n",
        "lr = 0.001\n",
        "epochs = 100"
      ],
      "metadata": {
        "id": "-gAaP1Y2IuZj"
      },
      "execution_count": null,
      "outputs": []
    },
    {
      "cell_type": "code",
      "source": [
        "# Cria o modelo, a função de custo e o otimizador\n",
        "model = Autoencoder(input_dim, encoding_dim)\n",
        "criterion = nn.MSELoss()\n",
        "optimizer = optim.Adam(model.parameters(), lr=lr)"
      ],
      "metadata": {
        "id": "rO5xCxu4Iv9K"
      },
      "execution_count": null,
      "outputs": []
    },
    {
      "cell_type": "code",
      "source": [
        "# Treina o modelo\n",
        "save_every = 1\n",
        "train_losses = []\n",
        "val_losses = []\n",
        "for epoch in range(epochs):\n",
        "    # Treina com o conjunto de treino\n",
        "    model.train()\n",
        "    train_loss = 0\n",
        "    for x in train_data:\n",
        "        optimizer.zero_grad()\n",
        "        x_tensor = torch.tensor(x, dtype=torch.float32)\n",
        "        recon_tensor = model(x_tensor)\n",
        "        loss = criterion(recon_tensor, x_tensor)\n",
        "        loss.backward()\n",
        "        optimizer.step()\n",
        "        train_loss += loss.item()\n",
        "    train_loss /= len(train_data)\n",
        "    train_losses.append(train_loss)\n",
        "\n",
        "    # Valida com o conjunto de validação\n",
        "    model.eval()\n",
        "    val_loss = 0\n",
        "    with torch.no_grad():\n",
        "        for x in val_data:\n",
        "            x_tensor = torch.tensor(x, dtype=torch.float32)\n",
        "            recon_tensor = model(x_tensor)\n",
        "            loss = criterion(recon_tensor, x_tensor)\n",
        "            val_loss += loss.item()\n",
        "        val_loss /= len(val_data)\n",
        "        val_losses.append(val_loss)\n",
        "\n",
        "    if (epoch + 1) % save_every == 0:\n",
        "        torch.save(model.state_dict(),'/content/drive/MyDrive/Saves/model_epoch_{}.pt'.format(epoch + 1))"
      ],
      "metadata": {
        "id": "PgVVoZwCIxga"
      },
      "execution_count": null,
      "outputs": []
    },
    {
      "cell_type": "code",
      "source": [
        "# Plota os gráficos de erro de treino e validação\n",
        "plt.plot(train_losses, label='Train Loss')\n",
        "plt.plot(val_losses, label='Val Loss')\n",
        "plt.legend()\n",
        "plt.show()"
      ],
      "metadata": {
        "colab": {
          "base_uri": "https://localhost:8080/",
          "height": 430
        },
        "id": "qVtWSGzsJGkq",
        "outputId": "b2f4a17c-1bf3-456d-b92c-daa540bea6e5"
      },
      "execution_count": null,
      "outputs": [
        {
          "output_type": "display_data",
          "data": {
            "text/plain": [
              "<Figure size 640x480 with 1 Axes>"
            ],
            "image/png": "[encoded data removed]"
          },
          "metadata": {}
        }
      ]
    },
    {
      "cell_type": "code",
      "source": [
        "# Escolhe o modelo com o menor erro de validação\n",
        "best_epoch = np.argmin(val_losses)\n",
        "model.load_state_dict(torch.load('/content/drive/MyDrive/Saves/model_epoch_{}.pt'.format(best_epoch)))"
      ],
      "metadata": {
        "colab": {
          "base_uri": "https://localhost:8080/"
        },
        "id": "_Wy73vKtJSsD",
        "outputId": "493d959a-1c22-4f2e-93c7-99211a3b3714"
      },
      "execution_count": null,
      "outputs": [
        {
          "output_type": "execute_result",
          "data": {
            "text/plain": [
              "<All keys matched successfully>"
            ]
          },
          "metadata": {},
          "execution_count": 86
        }
      ]
    },
    {
      "cell_type": "code",
      "source": [
        "# Test\n",
        "model.eval()\n",
        "test_losses = []\n",
        "reconstructions = []\n",
        "with torch.no_grad():\n",
        "  for x in test_data:\n",
        "    x_tensor = torch.tensor(x, dtype=torch.float32)\n",
        "    recon_tensor = model(x_tensor)\n",
        "    loss = criterion(recon_tensor, x_tensor)\n",
        "    test_losses.append(loss.item())\n",
        "    reconstructions.append(recon_tensor.numpy())\n",
        "\n",
        "test_losses = np.array(test_losses)\n",
        "reconstructions = np.array(reconstructions)"
      ],
      "metadata": {
        "id": "mOg2tuKKJ-vE"
      },
      "execution_count": null,
      "outputs": []
    },
    {
      "cell_type": "code",
      "source": [
        "# Calcula o limiar de anomalias\n",
        "mean_loss = np.mean(test_losses)\n",
        "std_loss = np.std(test_losses)\n",
        "threshold = mean_loss + 1*std_loss # define um limiar de 1 desvios padrão"
      ],
      "metadata": {
        "id": "qfULsouYKpuq"
      },
      "execution_count": null,
      "outputs": []
    },
    {
      "cell_type": "code",
      "source": [
        "# Identifica anomalias\n",
        "is_anomaly = test_losses > threshold\n",
        "predictions = np.where(is_anomaly, 1, 0)\n",
        "ground_truth = np.concatenate((np.zeros(len(test_data)-50), np.ones(50))) # assume que as últimas 50 amostras são anomalias"
      ],
      "metadata": {
        "id": "T4W0FIsXKu0C"
      },
      "execution_count": null,
      "outputs": []
    },
    {
      "cell_type": "code",
      "source": [
        "# Calcula as métricas\n",
        "tn, fp, fn, tp = confusion_matrix(ground_truth, predictions).ravel()\n",
        "f1_no_anomaly = f1_score(ground_truth, predictions, pos_label=0)\n",
        "f1_anomaly = f1_score(ground_truth, predictions)\n",
        "mcc = matthews_corrcoef(ground_truth, predictions)\n",
        "\n",
        "print(f\"Taxa de acerto para não anomalias: {(tn/(tn+fp))*100:.2f}%\")\n",
        "print(f\"Taxa de acerto para anomalias: {(tp/(tp+fn))*100:.2f}%\")\n",
        "print(f\"F1-score para não anomalias: {f1_no_anomaly:.4f}\")\n",
        "print(f\"F1-score para anomalias: {f1_anomaly:.4f}\")\n",
        "print(f\"Matthews correlation coefficient: {mcc:.4f}\")"
      ],
      "metadata": {
        "colab": {
          "base_uri": "https://localhost:8080/"
        },
        "id": "4uWmSJHnK0Pq",
        "outputId": "743c15a8-8f99-492b-d9de-3470d77def8c"
      },
      "execution_count": null,
      "outputs": [
        {
          "output_type": "stream",
          "name": "stdout",
          "text": [
            "Taxa de acerto para não anomalias: 100.00%\n",
            "Taxa de acerto para anomalias: 66.00%\n",
            "F1-score para não anomalias: 0.9217\n",
            "F1-score para anomalias: 0.7952\n",
            "Matthews correlation coefficient: 0.7511\n"
          ]
        }
      ]
    }
  ]
}