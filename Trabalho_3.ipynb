{
  "nbformat": 4,
  "nbformat_minor": 0,
  "metadata": {
    "colab": {
      "provenance": []
    },
    "kernelspec": {
      "name": "python3",
      "display_name": "Python 3"
    },
    "language_info": {
      "name": "python"
    }
  },
  "cells": [
    {
      "cell_type": "code",
      "execution_count": null,
      "metadata": {
        "id": "1xRgE5Ed-eSW"
      },
      "outputs": [],
      "source": [
        "import numpy as np\n",
        "import matplotlib.pyplot as plt\n",
        "from sklearn.metrics import accuracy_score, f1_score\n",
        "from sklearn.model_selection import train_test_split\n",
        "from keras.datasets import cifar10\n",
        "from keras.models import Sequential\n",
        "from keras.layers import Conv2D, MaxPooling2D, Flatten, Dense\n",
        "from keras.utils import to_categorical"
      ]
    },
    {
      "cell_type": "code",
      "source": [
        "# Carregar conjunto de dados CIFAR-10\n",
        "(X_train, y_train), (X_test, y_test) = cifar10.load_data()\n",
        "\n",
        "# Pré-processamento dos dados\n",
        "X_train = X_train.astype('float32') / 255.0\n",
        "X_test = X_test.astype('float32') / 255.0\n",
        "y_train = to_categorical(y_train)\n",
        "y_test = to_categorical(y_test)"
      ],
      "metadata": {
        "id": "hhJp0uXO_cbL",
        "colab": {
          "base_uri": "https://localhost:8080/"
        },
        "outputId": "fced2681-18fb-4de4-d25c-c4ecd489da14"
      },
      "execution_count": null,
      "outputs": [
        {
          "output_type": "stream",
          "name": "stdout",
          "text": [
            "Downloading data from https://www.cs.toronto.edu/~kriz/cifar-10-python.tar.gz\n",
            "170498071/170498071 [==============================] - 3s 0us/step\n"
          ]
        }
      ]
    },
    {
      "cell_type": "code",
      "source": [
        "# Selecionar uma imagem específica\n",
        "image_index = 2\n",
        "image = X_train[image_index]\n",
        "\n",
        "# Exibir essa imagem\n",
        "plt.imshow(image)\n",
        "plt.axis('off')  # Desabilitar os eixos\n",
        "plt.show()"
      ],
      "metadata": {
        "colab": {
          "base_uri": "https://localhost:8080/",
          "height": 406
        },
        "id": "yuRscHdNo1cz",
        "outputId": "f4d77630-deee-41e4-aadd-d20598055e36"
      },
      "execution_count": null,
      "outputs": [
        {
          "output_type": "display_data",
          "data": {
            "text/plain": [
              "<Figure size 640x480 with 1 Axes>"
            ],
            "image/png": "[encoded data removed]"
          },
          "metadata": {}
        }
      ]
    },
    {
      "cell_type": "code",
      "source": [
        "# Dividir conjunto de treinamento em treinamento e validação\n",
        "X_train, X_val, y_train, y_val = train_test_split(X_train, y_train, test_size=0.2, random_state=42)"
      ],
      "metadata": {
        "id": "A3iwUhdFioCX"
      },
      "execution_count": null,
      "outputs": []
    },
    {
      "cell_type": "code",
      "source": [
        "# Definir arquitetura da CNN\n",
        "model = Sequential()\n",
        "model.add(Conv2D(32, (3, 3), activation='relu', input_shape=(32, 32, 3)))\n",
        "model.add(MaxPooling2D((2, 2)))\n",
        "model.add(Conv2D(64, (3, 3), activation='relu'))\n",
        "model.add(MaxPooling2D((2, 2)))\n",
        "model.add(Conv2D(64, (3, 3), activation='relu'))\n",
        "model.add(Flatten())\n",
        "model.add(Dense(64, activation='relu'))\n",
        "model.add(Dense(10, activation='softmax'))"
      ],
      "metadata": {
        "id": "UNJI8_26itHo"
      },
      "execution_count": null,
      "outputs": []
    },
    {
      "cell_type": "code",
      "source": [
        "# Compilar o modelo\n",
        "model.compile(optimizer='adam', loss='categorical_crossentropy', metrics=['accuracy'])"
      ],
      "metadata": {
        "id": "-jCIcdIGiwdA"
      },
      "execution_count": null,
      "outputs": []
    },
    {
      "cell_type": "code",
      "source": [
        "# Treinamento da CNN\n",
        "history = model.fit(X_train, y_train, epochs=10, batch_size=128, validation_data=(X_val, y_val))"
      ],
      "metadata": {
        "colab": {
          "base_uri": "https://localhost:8080/"
        },
        "id": "l_pzMxYlizM4",
        "outputId": "738212af-39de-4569-9cf6-c0a99d891a6b"
      },
      "execution_count": null,
      "outputs": [
        {
          "output_type": "stream",
          "name": "stdout",
          "text": [
            "Epoch 1/10\n",
            "313/313 [==============================] - 67s 203ms/step - loss: 1.7015 - accuracy: 0.3753 - val_loss: 1.4875 - val_accuracy: 0.4606\n",
            "Epoch 2/10\n",
            "313/313 [==============================] - 63s 203ms/step - loss: 1.3570 - accuracy: 0.5120 - val_loss: 1.2850 - val_accuracy: 0.5378\n",
            "Epoch 3/10\n",
            "313/313 [==============================] - 62s 197ms/step - loss: 1.2256 - accuracy: 0.5651 - val_loss: 1.1726 - val_accuracy: 0.5847\n",
            "Epoch 4/10\n",
            "313/313 [==============================] - 62s 199ms/step - loss: 1.1322 - accuracy: 0.5983 - val_loss: 1.1231 - val_accuracy: 0.6000\n",
            "Epoch 5/10\n",
            "313/313 [==============================] - 63s 200ms/step - loss: 1.0542 - accuracy: 0.6266 - val_loss: 1.0428 - val_accuracy: 0.6304\n",
            "Epoch 6/10\n",
            "313/313 [==============================] - 61s 194ms/step - loss: 0.9868 - accuracy: 0.6549 - val_loss: 0.9914 - val_accuracy: 0.6489\n",
            "Epoch 7/10\n",
            "313/313 [==============================] - 60s 191ms/step - loss: 0.9391 - accuracy: 0.6673 - val_loss: 0.9910 - val_accuracy: 0.6550\n",
            "Epoch 8/10\n",
            "313/313 [==============================] - 63s 200ms/step - loss: 0.8949 - accuracy: 0.6869 - val_loss: 0.9783 - val_accuracy: 0.6585\n",
            "Epoch 9/10\n",
            "313/313 [==============================] - 64s 206ms/step - loss: 0.8507 - accuracy: 0.7019 - val_loss: 0.9159 - val_accuracy: 0.6792\n",
            "Epoch 10/10\n",
            "313/313 [==============================] - 62s 197ms/step - loss: 0.8230 - accuracy: 0.7111 - val_loss: 0.9396 - val_accuracy: 0.6704\n"
          ]
        }
      ]
    },
    {
      "cell_type": "code",
      "source": [
        "# Plotar curvas de erro de treinamento e validação\n",
        "plt.plot(history.history['loss'], label='train_loss')\n",
        "plt.plot(history.history['val_loss'], label='val_loss')\n",
        "plt.xlabel('Epoch')\n",
        "plt.ylabel('Loss')\n",
        "plt.legend()\n",
        "plt.show()"
      ],
      "metadata": {
        "colab": {
          "base_uri": "https://localhost:8080/",
          "height": 449
        },
        "id": "Yskc0g_Ki1cn",
        "outputId": "6d453d70-6a09-4509-faab-6e7aea9ea381"
      },
      "execution_count": null,
      "outputs": [
        {
          "output_type": "display_data",
          "data": {
            "text/plain": [
              "<Figure size 640x480 with 1 Axes>"
            ],
            "image/png": "[encoded data removed]"
          },
          "metadata": {}
        }
      ]
    },
    {
      "cell_type": "code",
      "source": [
        "# Avaliação do modelo no conjunto de teste\n",
        "y_pred = model.predict(X_test)\n",
        "y_pred_classes = np.argmax(y_pred, axis=1)\n",
        "y_test_classes = np.argmax(y_test, axis=1)\n",
        "\n",
        "accuracy = accuracy_score(y_test_classes, y_pred_classes)\n",
        "f1_scores = f1_score(y_test_classes, y_pred_classes, average=None)"
      ],
      "metadata": {
        "colab": {
          "base_uri": "https://localhost:8080/"
        },
        "id": "_TcyVydjlvKK",
        "outputId": "022231a5-3fb7-440d-dc19-89f49cd3405e"
      },
      "execution_count": null,
      "outputs": [
        {
          "output_type": "stream",
          "name": "stdout",
          "text": [
            "313/313 [==============================] - 4s 14ms/step\n"
          ]
        }
      ]
    },
    {
      "cell_type": "code",
      "source": [
        "# Printando métricas\n",
        "print('Acurácia: {:.4f}\\n'.format(accuracy))\n",
        "print('F1-score por classe:')\n",
        "for i, f1_score_class in enumerate(f1_scores):\n",
        "    print('Classe {}: {:.4f}'.format(i, f1_score_class))"
      ],
      "metadata": {
        "colab": {
          "base_uri": "https://localhost:8080/"
        },
        "id": "X-dkqdSSl3eo",
        "outputId": "8a8206eb-68e5-4411-eb78-53cba998872e"
      },
      "execution_count": null,
      "outputs": [
        {
          "output_type": "stream",
          "name": "stdout",
          "text": [
            "Acurácia: 0.6728\n",
            "\n",
            "F1-score por classe:\n",
            "Classe 0: 0.7257\n",
            "Classe 1: 0.7826\n",
            "Classe 2: 0.5438\n",
            "Classe 3: 0.5149\n",
            "Classe 4: 0.5906\n",
            "Classe 5: 0.5601\n",
            "Classe 6: 0.7337\n",
            "Classe 7: 0.7325\n",
            "Classe 8: 0.7788\n",
            "Classe 9: 0.7707\n"
          ]
        }
      ]
    }
  ]
}